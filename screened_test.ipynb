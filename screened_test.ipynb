{
 "cells": [
  {
   "cell_type": "code",
   "execution_count": 4,
   "metadata": {},
   "outputs": [],
   "source": [
    "import numpy as np\n",
    "import matplotlib.pyplot as plt\n",
    "import agents_enviroments\n"
   ]
  },
  {
   "cell_type": "code",
   "execution_count": 5,
   "metadata": {},
   "outputs": [],
   "source": [
    "bays = [agents_enviroments.Bay() for _ in range(6)]\n",
    "params = agents_enviroments.Parameters(C=0.05 ,V=1, m=0.67, k=0.4,treatment_prob=0.7,isolation_prob=0.1)\n",
    "ward = agents_enviroments.Ward(bays,params=params)"
   ]
  },
  {
   "cell_type": "code",
   "execution_count": null,
   "metadata": {},
   "outputs": [],
   "source": []
  }
 ],
 "metadata": {
  "kernelspec": {
   "display_name": "Python 3.9.12 ('base')",
   "language": "python",
   "name": "python3"
  },
  "language_info": {
   "codemirror_mode": {
    "name": "ipython",
    "version": 3
   },
   "file_extension": ".py",
   "mimetype": "text/x-python",
   "name": "python",
   "nbconvert_exporter": "python",
   "pygments_lexer": "ipython3",
   "version": "3.9.12"
  },
  "orig_nbformat": 4,
  "vscode": {
   "interpreter": {
    "hash": "8a09f4be9cf3fbd00adb1187a1abd69ec5f0ddaf52c33db967c45d7648bbd0c2"
   }
  }
 },
 "nbformat": 4,
 "nbformat_minor": 2
}
